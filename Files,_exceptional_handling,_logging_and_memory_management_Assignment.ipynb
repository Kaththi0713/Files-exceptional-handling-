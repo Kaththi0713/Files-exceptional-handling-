{
  "nbformat": 4,
  "nbformat_minor": 0,
  "metadata": {
    "colab": {
      "provenance": []
    },
    "kernelspec": {
      "name": "python3",
      "display_name": "Python 3"
    },
    "language_info": {
      "name": "python"
    }
  },
  "cells": [
    {
      "cell_type": "markdown",
      "source": [
        "# **Theoretical questions**"
      ],
      "metadata": {
        "id": "0YUFCGqUSmi6"
      }
    },
    {
      "cell_type": "markdown",
      "source": [
        "1. What is the difference between interpreted and compiled languages?\n",
        "  - Compiled languages are translated into machine code before runtime, allowing for faster execution, e.g. C, C++, C#, CLEO, COBOL, etc. , while interpreted languages are executed line by line during runtime by an interpreter, e.g. JavaScript, Perl, Python, BASIC, etc.\n",
        "\n",
        "2. What is exception handling in Python?\n",
        "  - Exception handling in Python is a mechanism used to manage and respond to runtime errors or exceptional conditions that disrupt the normal flow of a program.mThe core of exception handling in Python involves the use of try, except, else, and finally blocks.\n",
        "\n",
        "3. What is the purpose of the finally block in exception handling?\n",
        "  - The finally block executes code regardless of whether an exception occurred, typically for cleanup operations.\n",
        "\n",
        "4. What is logging in Python?\n",
        "  - Logging records events and errors in an application. It helps in debugging and monitoring software behavior using the logging module.\n",
        "\n",
        "5. What is the significance of the __del__ method in Python?\n",
        "  - the __del__ is a destructor method called when an object is deleted. It can be used for resource cleanup (like closing files).\n",
        "\n",
        "6. What is the difference between import and from ... import in Python?\n",
        "  - Both import and from ... import statements are used to bring code from one module into another, but they differ in how they make the imported objects available in the current namespace. import brings in the entire module as a distinct namespace, requiring dot notation for access, while from ... import brings specific objects directly into the current namespace, allowing for direct use but with a higher risk of name conflicts.\n",
        "\n",
        "7. How can you handle multiple exceptions in Python?\n",
        "  - Catching Multiple Exceptions with a Single except Block: Multiple exception types can be caught in one except block by listing them within a tuple. The code within this except block will execute if any of the specified exceptions occur.\n",
        "\n",
        "8. What is the purpose of the with statement when handling files in Python?\n",
        "  - The with statement in Python is used for resource management and exception handling. It simplifies working with resources like files, network connections and database connections by ensuring they are properly acquired and released. When we open a file, we need to close it ourself using close(). But if something goes wrong before closing, the file might stay open, causing issues. Using with open() automatically closes the file when we're done, even if an error happens.\n",
        "\n",
        "9. What is the difference between multithreading and multiprocessing?\n",
        "  - Multithreading: Multiple threads within a process. Suitable for I/O-bound tasks. Multiprocessing: Multiple processes. Better for CPU-bound tasks.\n",
        "\n",
        "10. What are the advantages of using logging in a program?\n",
        "  - IT tracks errors and warnings, provides audit trail, and its easier for debugging and monitoring.\n",
        "\n",
        "11. What is memory management in Python?\n",
        "  - Memory management in Python refers to the system that automatically handles the allocation and deallocation of memory for Python objects and data structures during program execution.\n",
        "\n",
        "12. What are the basic steps involved in exception handling in Python?\n",
        "  - Use try to wrap code that might fail.\n",
        "  - Use except to handle errors.\n",
        "  - Optionally use else (runs if no error).\n",
        "  - Use finally for cleanup.\n",
        "\n",
        "13. Why is memory management important in Python?\n",
        "  - It ensures efficient resource use, prevents memory leaks, and maintains performance.\n",
        "\n",
        "14. What is the role of try and except in exception handling?\n",
        "  - The try and except statements are used for exception handling, which allows programs to gracefully manage errors that might occur during execution, preventing abrupt termination. The try block contains the code that might raise an exception, while the except block handles the exception if it occurs.\n",
        "\n",
        "15. How does Python's garbage collection system work?\n",
        "  - Python's garbage collection automatically cleans up any unused objects based on reference counting and object allocation and deallocation, meaning users won't have to clean these objects manually. This also helps periodically clear up memory space to help a program run more smoothly.\n",
        "\n",
        "16. What is the purpose of the else block in exception handling?\n",
        "  - In exception handling, the else block is used to execute code only when no exceptions are raised within the corresponding try block. It provides a way to separate the code that should run only if the try block succeeds from the code that handles potential errors.\n",
        "\n",
        "17. What are the common logging levels in Python?\n",
        "  - DEBUG: Detailed info.\n",
        "  - INFO: General info.\n",
        "  - WARNING: Non-critical issues.\n",
        "  - ERROR: Serious issues.\n",
        "  - CRITICAL: Severe errors.\n",
        "\n",
        "18. What is the difference between os.fork() and multiprocessing in Python?\n",
        "  - The use of os.fork() only for low-level, Unix-specific scripting. whereas prefer multiprocessing for robust, portable, and multi-core compatible parallel programs in Python.\n",
        "\n",
        "19. What is the importance of closing a file in Python?\n",
        "  - By closing the file, you release these resources back to the system, which can be used by other processes or programs, Closes file handles, flushes buffers, and frees resources.\n",
        "\n",
        "20. What is the difference between file.read() and file.readline() in Python?\n",
        "  - read(): Reads the entire file; readline(): Reads one line at a time.\n",
        "\n",
        "21. What is the logging module in Python used for?\n",
        "  - The logging module in Python is used to track events in a program's execution. It allows developers to record information about errors, warnings, and other events that occur during program execution. This helps in debugging, troubleshooting, and monitoring the application's behavior.\n",
        "\n",
        "22. What is the os module in Python used for in file handling?\n",
        "  - It provides functions to interact with the operating system, like file/directory management.\n",
        "\n",
        "23. What are the challenges associated with memory management in Python?\n",
        "  - Memory leaks from circular references, Managing large data structures, Manual handling of cleanup in some cases.\n",
        "\n",
        "24. How do you raise an exception manually in Python?\n",
        "  - The raise keyword is used to raise an exception. You can define what kind of error to raise, and the text to print to the user.\n",
        "  \n",
        "25. Why is it important to use multithreading in certain applications?\n",
        "  - Multithreading is important in certain applications because it allows for improved performance, responsiveness, and resource utilization. By dividing tasks into smaller, concurrently executing threads, applications can achieve faster execution, handle multiple user requests simultaneously, and make better use of multi-core processors."
      ],
      "metadata": {
        "id": "Vhx191k104rg"
      }
    },
    {
      "cell_type": "markdown",
      "source": [
        "# **Practical Questions**"
      ],
      "metadata": {
        "id": "wQDfOjV9Sawy"
      }
    },
    {
      "cell_type": "code",
      "execution_count": 2,
      "metadata": {
        "id": "P_T5mY2szIQ5"
      },
      "outputs": [],
      "source": [
        "# 1. How can you open a file for writing in Python and write a string to it?\n",
        "\n",
        "with open(\"output.txt\", \"w\") as file:\n",
        "    file.write(\"Hello, Good morning, Have a good day.\")"
      ]
    },
    {
      "cell_type": "code",
      "source": [
        "# 2. Write a Python program to read the contents of a file and print each line.\n",
        "\n",
        "filename = \"output.txt\"\n",
        "\n",
        "with open(\"output.txt\", \"r\") as file:\n",
        "    for line in file:\n",
        "        print(line.strip())"
      ],
      "metadata": {
        "colab": {
          "base_uri": "https://localhost:8080/"
        },
        "id": "Hva9qGWFTpKJ",
        "outputId": "e042e7b1-9d56-418c-a124-3c34a9fe23ad"
      },
      "execution_count": 3,
      "outputs": [
        {
          "output_type": "stream",
          "name": "stdout",
          "text": [
            "Hello, Good morning, Have a good day.\n"
          ]
        }
      ]
    },
    {
      "cell_type": "code",
      "source": [
        "# 3. How would you handle a case where the file doesn't exist while trying to open it for reading?\n",
        "\n",
        "try:\n",
        "    with open(\"nonexistent.txt\", \"r\") as file:\n",
        "        print(file.read())\n",
        "except FileNotFoundError:\n",
        "    print(\"File not found!\")"
      ],
      "metadata": {
        "colab": {
          "base_uri": "https://localhost:8080/"
        },
        "id": "rOzGwoe7Um-Y",
        "outputId": "ed33868d-1164-49ac-987f-a7465ed3d354"
      },
      "execution_count": 4,
      "outputs": [
        {
          "output_type": "stream",
          "name": "stdout",
          "text": [
            "File not found!\n"
          ]
        }
      ]
    },
    {
      "cell_type": "code",
      "source": [
        "# 4. Write a Python script that reads from one file and writes its content to another file.\n",
        "\n",
        "source_file = \"output.txt\"\n",
        "destination_file = \"destination.txt\"\n",
        "\n",
        "try:\n",
        "    with open(source_file, \"r\") as src:\n",
        "        content = src.read()\n",
        "\n",
        "    with open(destination_file, \"w\") as dst:\n",
        "        dst.write(content)\n",
        "\n",
        "    print(f\"Contents copied from '{source_file}' to '{destination_file}' successfully.\")\n",
        "\n",
        "except FileNotFoundError:\n",
        "    print(f\"Error: '{source_file}' does not exist.\")"
      ],
      "metadata": {
        "colab": {
          "base_uri": "https://localhost:8080/"
        },
        "id": "z8d_07lJU59U",
        "outputId": "47eb27fc-c424-4402-b27b-d04ad3f36f34"
      },
      "execution_count": 5,
      "outputs": [
        {
          "output_type": "stream",
          "name": "stdout",
          "text": [
            "Contents copied from 'output.txt' to 'destination.txt' successfully.\n"
          ]
        }
      ]
    },
    {
      "cell_type": "code",
      "source": [
        "# 5. How would you catch and handle division by zero error in Python?\n",
        "\n",
        "try:\n",
        "    result = 10 / 0\n",
        "except ZeroDivisionError:\n",
        "    print(\"Cannot divide by zero.\")"
      ],
      "metadata": {
        "colab": {
          "base_uri": "https://localhost:8080/"
        },
        "id": "JaVFo-DRWRfd",
        "outputId": "a842e3f9-1543-49e5-cd89-26f34157e0cc"
      },
      "execution_count": 6,
      "outputs": [
        {
          "output_type": "stream",
          "name": "stdout",
          "text": [
            "Cannot divide by zero.\n"
          ]
        }
      ]
    },
    {
      "cell_type": "code",
      "source": [
        "# 6. Write a Python program that logs an error message to a log file when a\n",
        "# division by zero exception occurs.\n",
        "\n",
        "import logging\n",
        "\n",
        "logging.basicConfig(filename=\"error.log\", level=logging.ERROR)\n",
        "\n",
        "try:\n",
        "    result = 10 / 0\n",
        "except ZeroDivisionError:\n",
        "    logging.error(\"Division by zero error occurred.\", exc_info=True)"
      ],
      "metadata": {
        "colab": {
          "base_uri": "https://localhost:8080/"
        },
        "id": "KUJ-q0CyWsQe",
        "outputId": "05239ebb-83d7-4602-8faf-39f2071452b7"
      },
      "execution_count": 7,
      "outputs": [
        {
          "output_type": "stream",
          "name": "stderr",
          "text": [
            "ERROR:root:Division by zero error occurred.\n",
            "Traceback (most recent call last):\n",
            "  File \"/tmp/ipython-input-7-1449031521.py\", line 9, in <cell line: 0>\n",
            "    result = 10 / 0\n",
            "             ~~~^~~\n",
            "ZeroDivisionError: division by zero\n"
          ]
        }
      ]
    },
    {
      "cell_type": "code",
      "source": [
        "# 7. How do you log information at different levels (INFO, ERROR, WARNING) in\n",
        "# Python using the logging module?\n",
        "\n",
        "import logging\n",
        "\n",
        "logging.basicConfig(level=logging.DEBUG)\n",
        "\n",
        "logging.debug(\"This is a debug message.\")\n",
        "logging.info(\"This is an info message.\")\n",
        "logging.warning(\"This is a warning.\")\n",
        "logging.error(\"This is an error.\")\n",
        "logging.critical(\"This is critical.\")"
      ],
      "metadata": {
        "colab": {
          "base_uri": "https://localhost:8080/"
        },
        "id": "LF7KMJ7jXGVO",
        "outputId": "2a87071e-cece-4cd1-b151-a7fa56cc59a8"
      },
      "execution_count": 8,
      "outputs": [
        {
          "output_type": "stream",
          "name": "stderr",
          "text": [
            "WARNING:root:This is a warning.\n",
            "ERROR:root:This is an error.\n",
            "CRITICAL:root:This is critical.\n"
          ]
        }
      ]
    },
    {
      "cell_type": "code",
      "source": [
        "# 8. Write a program to handle a file opening error using exception handling.\n",
        "\n",
        "try:\n",
        "    file = open(\"missing.txt\", \"r\")\n",
        "except FileNotFoundError:\n",
        "    print(\"Error: File could not be opened.\")"
      ],
      "metadata": {
        "colab": {
          "base_uri": "https://localhost:8080/"
        },
        "id": "CQcWn9DWX1Y4",
        "outputId": "15b12044-a39a-4e32-be13-bf921fbca9ed"
      },
      "execution_count": 9,
      "outputs": [
        {
          "output_type": "stream",
          "name": "stdout",
          "text": [
            "Error: File could not be opened.\n"
          ]
        }
      ]
    },
    {
      "cell_type": "code",
      "source": [
        "# 9. How can you read a file line by line and store its content in a list in Python?\n",
        "\n",
        "with open(\"example.txt\", \"w\") as file:\n",
        "    file.write(\"Hello, this is my first line.\\n\")\n",
        "    file.write(\"This is my second line.\")\n",
        "\n",
        "with open(\"example.txt\", \"r\") as file:\n",
        "    lines = [line.strip() for line in file]\n",
        "print(lines)"
      ],
      "metadata": {
        "colab": {
          "base_uri": "https://localhost:8080/"
        },
        "id": "IRONt_pHYS0-",
        "outputId": "069aaded-5f84-4f46-b160-e59a5c53f8ff"
      },
      "execution_count": 11,
      "outputs": [
        {
          "output_type": "stream",
          "name": "stdout",
          "text": [
            "['Hello, this is my first line.', 'This is my second line.']\n"
          ]
        }
      ]
    },
    {
      "cell_type": "code",
      "source": [
        "# 10. How can you append data to an existing file in Python?\n",
        "\n",
        "with open(\"example.txt\", \"a\") as file:\n",
        "    file.write(\"\\nAppended new line.\")"
      ],
      "metadata": {
        "id": "RiGY_OLeZZ2M"
      },
      "execution_count": 12,
      "outputs": []
    },
    {
      "cell_type": "code",
      "source": [
        "# 11. Write a Python program that uses a try-except block to handle an error\n",
        "# when attempting to access a dictionary key that doesn't exist.\n",
        "\n",
        "student = {\"name\": \"Alice\",\"age\": 20}\n",
        "\n",
        "try:\n",
        "    print(\"Student Name:\", student[\"name\"])\n",
        "    print(\"Student Grade:\", student[\"grade\"])  # 'grade' key does not exist\n",
        "except KeyError as e:\n",
        "    print(f\"KeyError: The key {e} does not exist in the dictionary.\")"
      ],
      "metadata": {
        "colab": {
          "base_uri": "https://localhost:8080/"
        },
        "id": "vmk9XPtzasQP",
        "outputId": "a93fd869-512a-4bbd-fa5a-39007482dbe6"
      },
      "execution_count": 13,
      "outputs": [
        {
          "output_type": "stream",
          "name": "stdout",
          "text": [
            "Student Name: Alice\n",
            "KeyError: The key 'grade' does not exist in the dictionary.\n"
          ]
        }
      ]
    },
    {
      "cell_type": "code",
      "source": [
        "# 12. Write a program that demonstrates using multiple except blocks to handle\n",
        "# different types of exceptions?\n",
        "\n",
        "try:\n",
        "    a = int(\"abe\")\n",
        "    b = 10 / 0\n",
        "except ValueError:\n",
        "    print(\"ValueError occurred.\")\n",
        "except ZeroDivisionError:\n",
        "    print(\"ZeroDivisionError occurred.\")"
      ],
      "metadata": {
        "colab": {
          "base_uri": "https://localhost:8080/"
        },
        "id": "CGwNdHBRbWKT",
        "outputId": "d00064c6-732d-4617-d19d-f17e70c634ee"
      },
      "execution_count": 15,
      "outputs": [
        {
          "output_type": "stream",
          "name": "stdout",
          "text": [
            "ValueError occurred.\n"
          ]
        }
      ]
    },
    {
      "cell_type": "code",
      "source": [
        "# 13. How would you check if a file exists before attempting to read it in Python?\n",
        "\n",
        "import os\n",
        "\n",
        "if os.path.exists(\"example.txt\"):\n",
        "    with open(\"example.txt\", \"r\") as file:\n",
        "        print(file.read())\n",
        "else:\n",
        "    print(\"File does not exist.\")"
      ],
      "metadata": {
        "colab": {
          "base_uri": "https://localhost:8080/"
        },
        "id": "vD15r6-nbhbv",
        "outputId": "9d631b0a-7b66-4e44-b926-9c83a7a93d13"
      },
      "execution_count": 16,
      "outputs": [
        {
          "output_type": "stream",
          "name": "stdout",
          "text": [
            "Hello, this is my first line.\n",
            "This is my second line.\n",
            "Appended new line.\n"
          ]
        }
      ]
    },
    {
      "cell_type": "code",
      "source": [
        "# 14. Write a program that uses the logging module to log both informational and error messages.\n",
        "\n",
        "import logging\n",
        "\n",
        "logging.basicConfig(filename=\"logfile.log\", level=logging.INFO)\n",
        "logging.info(\"Program started.\")\n",
        "\n",
        "try:\n",
        "    result = 5 / 0\n",
        "except ZeroDivisionError:\n",
        "    logging.error(\"Tried dividing by zero.\", exc_info=True)"
      ],
      "metadata": {
        "colab": {
          "base_uri": "https://localhost:8080/"
        },
        "id": "ioLayp8ucf63",
        "outputId": "023e7181-f826-47d3-9b0b-7c7f909b4702"
      },
      "execution_count": 17,
      "outputs": [
        {
          "output_type": "stream",
          "name": "stderr",
          "text": [
            "ERROR:root:Tried dividing by zero.\n",
            "Traceback (most recent call last):\n",
            "  File \"/tmp/ipython-input-17-961023042.py\", line 9, in <cell line: 0>\n",
            "    result = 5 / 0\n",
            "             ~~^~~\n",
            "ZeroDivisionError: division by zero\n"
          ]
        }
      ]
    },
    {
      "cell_type": "code",
      "source": [
        "# 15. Write a Python program that prints the content of a file and handles the case when the file is empty.\n",
        "\n",
        "with open(\"example.txt\", \"r\") as file:\n",
        "    content = file.read()\n",
        "    if content:\n",
        "        print(content)\n",
        "    else:\n",
        "        print(\"File is empty.\")"
      ],
      "metadata": {
        "colab": {
          "base_uri": "https://localhost:8080/"
        },
        "id": "KG3rTQCZdCDI",
        "outputId": "e982bbb7-557f-4b05-dba0-49bfd0c4c0ff"
      },
      "execution_count": 19,
      "outputs": [
        {
          "output_type": "stream",
          "name": "stdout",
          "text": [
            "Hello, this is my first line.\n",
            "This is my second line.\n",
            "Appended new line.\n"
          ]
        }
      ]
    },
    {
      "cell_type": "code",
      "source": [
        "# 16. Demonstrate how to use memory profiling to check the memory usage of a small program.\n",
        "\n",
        "from memory_profiler import profile\n",
        "\n",
        "@profile\n",
        "def calculate():\n",
        "    return [x * x for x in range(10)]\n",
        "\n",
        "calculate()"
      ],
      "metadata": {
        "colab": {
          "base_uri": "https://localhost:8080/"
        },
        "id": "onAFrh-KdVh-",
        "outputId": "f519ec2e-8b35-481e-bf67-8e61d702be7f"
      },
      "execution_count": 28,
      "outputs": [
        {
          "output_type": "stream",
          "name": "stdout",
          "text": [
            "ERROR: Could not find file /tmp/ipython-input-28-624640589.py\n"
          ]
        },
        {
          "output_type": "execute_result",
          "data": {
            "text/plain": [
              "[0, 1, 4, 9, 16, 25, 36, 49, 64, 81]"
            ]
          },
          "metadata": {},
          "execution_count": 28
        }
      ]
    },
    {
      "cell_type": "code",
      "source": [
        "# 17. Write a Python program to create and write a list of numbers to a file, one number per line.\n",
        "\n",
        "numbers = [1, 2, 3, 4, 5]\n",
        "with open(\"numbers.txt\", \"w\") as file:\n",
        "    for number in numbers:\n",
        "        file.write(f\"{number}\\n\")"
      ],
      "metadata": {
        "id": "nfd_5bu7fCnO"
      },
      "execution_count": 29,
      "outputs": []
    },
    {
      "cell_type": "code",
      "source": [
        "# 18. How would you implement a basic logging setup that logs to a file with rotation after 1MB?\n",
        "\n",
        "import logging\n",
        "from logging.handlers import RotatingFileHandler\n",
        "\n",
        "# Create a rotating handler\n",
        "log_handler = RotatingFileHandler(\n",
        "    filename=\"app.log\",        # Log file name\n",
        "    maxBytes=1_000_000,        # Rotate after 1MB\n",
        "    backupCount=3              # Keep up to 3 backup files\n",
        ")\n",
        "\n",
        "# Set log format\n",
        "formatter = logging.Formatter('%(asctime)s - %(levelname)s - %(message)s')\n",
        "log_handler.setFormatter(formatter)\n",
        "\n",
        "# Configure logger\n",
        "logger = logging.getLogger()\n",
        "logger.setLevel(logging.INFO)\n",
        "logger.addHandler(log_handler)"
      ],
      "metadata": {
        "id": "-LcTpr0bfP1a"
      },
      "execution_count": 30,
      "outputs": []
    },
    {
      "cell_type": "code",
      "source": [
        "for i in range(9):\n",
        "    logger.info(f\"This is log message number {i}\")"
      ],
      "metadata": {
        "colab": {
          "base_uri": "https://localhost:8080/"
        },
        "id": "-FP97PE9hlGB",
        "outputId": "8b742c0e-229b-4a7e-813b-503a7380ec14"
      },
      "execution_count": 31,
      "outputs": [
        {
          "output_type": "stream",
          "name": "stderr",
          "text": [
            "INFO:root:This is log message number 0\n",
            "INFO:root:This is log message number 1\n",
            "INFO:root:This is log message number 2\n",
            "INFO:root:This is log message number 3\n",
            "INFO:root:This is log message number 4\n",
            "INFO:root:This is log message number 5\n",
            "INFO:root:This is log message number 6\n",
            "INFO:root:This is log message number 7\n",
            "INFO:root:This is log message number 8\n"
          ]
        }
      ]
    },
    {
      "cell_type": "code",
      "source": [
        "# 19. Write a program that handles both IndexError and KeyError using a try-except block.\n",
        "\n",
        "try:\n",
        "    my_list = [1, 2, 3]\n",
        "    print(my_list[5])\n",
        "    my_dict = {\"a\": 1}\n",
        "    print(my_dict[\"b\"])\n",
        "except IndexError:\n",
        "    print(\"Index out of range.\")\n",
        "except KeyError:\n",
        "    print(\"Key not found.\")"
      ],
      "metadata": {
        "colab": {
          "base_uri": "https://localhost:8080/"
        },
        "id": "1a0MeLNehpqE",
        "outputId": "8bd508ce-a932-4778-ce58-87c0b47ecabc"
      },
      "execution_count": 32,
      "outputs": [
        {
          "output_type": "stream",
          "name": "stdout",
          "text": [
            "Index out of range.\n"
          ]
        }
      ]
    },
    {
      "cell_type": "code",
      "source": [
        "# 20. How would you open a file and read its contents using a context manager in Python?\n",
        "\n",
        "with open(\"example.txt\", \"r\") as file:\n",
        "    content = file.read()\n",
        "    print(content)"
      ],
      "metadata": {
        "colab": {
          "base_uri": "https://localhost:8080/"
        },
        "id": "JdO3TGH7ioxa",
        "outputId": "6c0971c9-9081-4c20-c486-e69ffe9c0816"
      },
      "execution_count": 33,
      "outputs": [
        {
          "output_type": "stream",
          "name": "stdout",
          "text": [
            "Hello, this is my first line.\n",
            "This is my second line.\n",
            "Appended new line.\n"
          ]
        }
      ]
    },
    {
      "cell_type": "code",
      "source": [
        "# 21. Write a Python program that reads a file and prints the number of occurrences of a specific word.\n",
        "\n",
        "word_to_count = \"line\"\n",
        "count = 0\n",
        "with open(\"example.txt\", \"r\") as file:\n",
        "    for line in file:\n",
        "        count += line.lower().count(word_to_count.lower())\n",
        "print(f\"'{word_to_count}' occurred {count} times.\")"
      ],
      "metadata": {
        "colab": {
          "base_uri": "https://localhost:8080/"
        },
        "id": "pu_6ws-_i381",
        "outputId": "79580033-24bb-4563-b6fc-812b623466ad"
      },
      "execution_count": 34,
      "outputs": [
        {
          "output_type": "stream",
          "name": "stdout",
          "text": [
            "'line' occurred 3 times.\n"
          ]
        }
      ]
    },
    {
      "cell_type": "code",
      "source": [
        "# 22. How can you check if a file is empty before attempting to read its contents?\n",
        "\n",
        "import os\n",
        "\n",
        "if os.path.exists(\"number.txt\") and os.path.getsize(\"number.txt\") > 0:\n",
        "    with open(\"number.txt\", \"r\") as file:\n",
        "        print(file.read())\n",
        "else:\n",
        "    print(\"File is empty or does not exist.\")"
      ],
      "metadata": {
        "colab": {
          "base_uri": "https://localhost:8080/"
        },
        "id": "o4Gr6aW_jOne",
        "outputId": "e0527385-4cfc-4403-dffd-153b779fd038"
      },
      "execution_count": 36,
      "outputs": [
        {
          "output_type": "stream",
          "name": "stdout",
          "text": [
            "File is empty or does not exist.\n"
          ]
        }
      ]
    },
    {
      "cell_type": "code",
      "source": [
        "# 23. Write a Python program that writes to a log file when an error occurs during file handling.\n",
        "\n",
        "import logging\n",
        "\n",
        "logging.basicConfig(filename=\"file_error.log\", level=logging.ERROR)\n",
        "\n",
        "try:\n",
        "    with open(\"unknown.txt\", \"r\") as file:\n",
        "        print(file.read())\n",
        "except Exception as e:\n",
        "    logging.error(f\"File error occurred: {e}\")"
      ],
      "metadata": {
        "colab": {
          "base_uri": "https://localhost:8080/"
        },
        "id": "zxHaCzxJjsm2",
        "outputId": "1f31f74e-cd9a-49f8-d8ba-d6820b707ebd"
      },
      "execution_count": 37,
      "outputs": [
        {
          "output_type": "stream",
          "name": "stderr",
          "text": [
            "ERROR:root:File error occurred: [Errno 2] No such file or directory: 'unknown.txt'\n"
          ]
        }
      ]
    },
    {
      "cell_type": "code",
      "source": [],
      "metadata": {
        "id": "u3Yj1Hr4kGYu"
      },
      "execution_count": null,
      "outputs": []
    }
  ]
}